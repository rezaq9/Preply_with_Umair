{
 "cells": [
  {
   "cell_type": "code",
   "execution_count": 1,
   "metadata": {},
   "outputs": [],
   "source": [
    "# if\n",
    "# if else\n",
    "# if elif elif .... \n",
    "# if elif elif ... else"
   ]
  },
  {
   "cell_type": "code",
   "execution_count": 2,
   "metadata": {},
   "outputs": [],
   "source": [
    "# some people call it , condition, some say, control flow, "
   ]
  },
  {
   "cell_type": "code",
   "execution_count": 4,
   "metadata": {},
   "outputs": [
    {
     "name": "stdout",
     "output_type": "stream",
     "text": [
      "turn off fan\n"
     ]
    }
   ],
   "source": [
    "# if room temperature is mroe than 30 turn on fan\n",
    "temp = int(input('please write temperature'))# pop up a message, what user will write will change to int and will stor to temp variable\n",
    "if temp >30:\n",
    "    print('turn on fan')\n",
    "else:\n",
    "    print('turn off fan')"
   ]
  },
  {
   "cell_type": "code",
   "execution_count": 8,
   "metadata": {},
   "outputs": [
    {
     "ename": "ValueError",
     "evalue": "invalid literal for int() with base 10: '6 months'",
     "output_type": "error",
     "traceback": [
      "\u001b[0;31m---------------------------------------------------------------------------\u001b[0m",
      "\u001b[0;31mValueError\u001b[0m                                Traceback (most recent call last)",
      "Cell \u001b[0;32mIn[8], line 7\u001b[0m\n\u001b[1;32m      1\u001b[0m \u001b[38;5;66;03m# sometimes we need multiple decisions/conditons so we can use elif\u001b[39;00m\n\u001b[1;32m      2\u001b[0m \u001b[38;5;66;03m# with if you write conditon with elif you also write conditon but not with else\u001b[39;00m\n\u001b[1;32m      3\u001b[0m \n\u001b[1;32m      4\u001b[0m \u001b[38;5;66;03m#please write a program that will ask you age, if you will enter age\u001b[39;00m\n\u001b[1;32m      5\u001b[0m \u001b[38;5;66;03m# it will tell you are a baby, or a teenager, or grown person, or retired\u001b[39;00m\n\u001b[0;32m----> 7\u001b[0m age \u001b[38;5;241m=\u001b[39m \u001b[38;5;28;43mint\u001b[39;49m\u001b[43m(\u001b[49m\u001b[38;5;28;43minput\u001b[39;49m\u001b[43m(\u001b[49m\u001b[38;5;124;43m\"\u001b[39;49m\u001b[38;5;124;43mWhat is your age?\u001b[39;49m\u001b[38;5;124;43m\"\u001b[39;49m\u001b[43m)\u001b[49m\u001b[43m)\u001b[49m\n\u001b[1;32m      8\u001b[0m \u001b[38;5;28;01mif\u001b[39;00m age \u001b[38;5;241m<\u001b[39m \u001b[38;5;241m13\u001b[39m:\n\u001b[1;32m      9\u001b[0m     \u001b[38;5;28mprint\u001b[39m (\u001b[38;5;124m\"\u001b[39m\u001b[38;5;124mYou are a child\u001b[39m\u001b[38;5;124m\"\u001b[39m)\n",
      "\u001b[0;31mValueError\u001b[0m: invalid literal for int() with base 10: '6 months'"
     ]
    }
   ],
   "source": [
    "# sometimes we need multiple decisions/conditons so we can use elif\n",
    "# with if you write conditon with elif you also write conditon but not with else\n",
    "\n",
    "#please write a program that will ask you age, if you will enter age\n",
    "# it will tell you are a baby, or a teenager, or grown person, or retired\n",
    "\n",
    "age = int(input(\"What is your age? (write a number)\"))\n",
    "if age < 13:\n",
    "    print (\"You are a child\")\n",
    "elif age >= 13 and age <= 19:\n",
    "    print (\"You are a smelly teenager\")\n",
    "elif age >= 20 and age <= 64:\n",
    "    print (\"You are a grown, working person\")\n",
    "elif age >64:\n",
    "    print (\"You are a retired person\")\n",
    "else:\n",
    "    print('invalid input')"
   ]
  },
  {
   "cell_type": "code",
   "execution_count": 9,
   "metadata": {},
   "outputs": [],
   "source": [
    "# involivg data structure lets talk about list first\n"
   ]
  },
  {
   "cell_type": "code",
   "execution_count": 15,
   "metadata": {},
   "outputs": [
    {
     "name": "stdout",
     "output_type": "stream",
     "text": [
      "Hey apple is there!!!\n"
     ]
    }
   ],
   "source": [
    "fruit_list = ['apple', 'orange', 'dragon fruit', 'muz', 'ananas']\n",
    "# lets say you own a market and customer wants to buy only so if the fruit he select is present you can print hey fruit is there, else print sorry we dont have this fruit\n",
    "\n",
    "# get a user input and using if else confirm if fruit is present or not\n",
    "\n",
    "fruit_asking_for = (input(\"What fruit are you after, today?\"))\n",
    "\n",
    "if fruit_asking_for in fruit_list:\n",
    "    print(f'Hey {fruit_asking_for} is there!!!')\n",
    "else:\n",
    "    print('Sorry, we do not have this in stock right now')"
   ]
  },
  {
   "cell_type": "code",
   "execution_count": 24,
   "metadata": {},
   "outputs": [
    {
     "name": "stdout",
     "output_type": "stream",
     "text": [
      "The price of apple is 180\n"
     ]
    }
   ],
   "source": [
    "# we try to involve dictionary\n",
    "# we have to make adictionary with fruit name and price, if fruit is present it should tell the price fo the fruit\n",
    "\n",
    "fruit_dict = {'banana': 150, 'apple': 180, 'mango': 210, 'pineapple': 230, 'orange': 155}\n",
    "# if fruit is present then pleas mention price of it\n",
    "\n",
    "fruit_name = (input(\"What fruit would you like the price for\"))\n",
    "\n",
    "if fruit_name in fruit_dict:\n",
    "    print(f\"The price of {fruit_name} is {fruit_dict[fruit_name]}\")\n",
    "else: \n",
    "    print('Sorry, we do not have that available')"
   ]
  },
  {
   "cell_type": "code",
   "execution_count": null,
   "metadata": {},
   "outputs": [],
   "source": []
  }
 ],
 "metadata": {
  "kernelspec": {
   "display_name": "Python 3",
   "language": "python",
   "name": "python3"
  },
  "language_info": {
   "codemirror_mode": {
    "name": "ipython",
    "version": 3
   },
   "file_extension": ".py",
   "mimetype": "text/x-python",
   "name": "python",
   "nbconvert_exporter": "python",
   "pygments_lexer": "ipython3",
   "version": "3.12.4"
  }
 },
 "nbformat": 4,
 "nbformat_minor": 2
}
