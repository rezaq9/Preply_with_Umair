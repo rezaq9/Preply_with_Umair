{
 "cells": [
  {
   "cell_type": "code",
   "execution_count": 2,
   "metadata": {},
   "outputs": [
    {
     "name": "stdout",
     "output_type": "stream",
     "text": [
      "sum is 30\n",
      "diff is -10\n",
      "product is 200\n",
      "division is 0.5\n"
     ]
    }
   ],
   "source": [
    "# function make a system so you do not need to repeat things \n",
    "a = 10\n",
    "b = 20\n",
    "\n",
    "\n",
    "\n",
    "print('sum is',a+b)\n",
    "print('diff is',a-b)\n",
    "print('product is',a*b)\n",
    "print('division is',a/b)\n"
   ]
  },
  {
   "cell_type": "code",
   "execution_count": 4,
   "metadata": {},
   "outputs": [
    {
     "name": "stdout",
     "output_type": "stream",
     "text": [
      "sum is 59\n",
      "diff is 51\n",
      "product is 220\n",
      "division is 13.75\n"
     ]
    }
   ],
   "source": [
    "a = 55\n",
    "b = 4\n",
    "\n",
    "\n",
    "\n",
    "print('sum is',a+b)\n",
    "print('diff is',a-b)\n",
    "print('product is',a*b)\n",
    "print('division is',a/b)\n"
   ]
  },
  {
   "cell_type": "code",
   "execution_count": 6,
   "metadata": {},
   "outputs": [
    {
     "name": "stdout",
     "output_type": "stream",
     "text": [
      "sum is 10\n",
      "diff is 0\n",
      "product is 25\n",
      "division is 1.0\n"
     ]
    }
   ],
   "source": [
    "a = 5\n",
    "b = 5\n",
    "\n",
    "\n",
    "\n",
    "print('sum is',a+b)\n",
    "print('diff is',a-b)\n",
    "print('product is',a*b)\n",
    "print('division is',a/b)\n"
   ]
  },
  {
   "cell_type": "code",
   "execution_count": 7,
   "metadata": {},
   "outputs": [],
   "source": [
    "def simple_calculator(a,b):\n",
    "    print('sum is',a+b)\n",
    "    print('diff is',a-b)\n",
    "    print('product is',a*b)\n",
    "    print('division is',a/b)"
   ]
  },
  {
   "cell_type": "code",
   "execution_count": 8,
   "metadata": {},
   "outputs": [
    {
     "name": "stdout",
     "output_type": "stream",
     "text": [
      "sum is 30\n",
      "diff is -10\n",
      "product is 200\n",
      "division is 0.5\n"
     ]
    }
   ],
   "source": [
    "simple_calculator(10,20)"
   ]
  },
  {
   "cell_type": "code",
   "execution_count": 9,
   "metadata": {},
   "outputs": [
    {
     "name": "stdout",
     "output_type": "stream",
     "text": [
      "sum is 7\n",
      "diff is -3\n",
      "product is 10\n",
      "division is 0.4\n"
     ]
    }
   ],
   "source": [
    "simple_calculator(2,5)"
   ]
  },
  {
   "cell_type": "code",
   "execution_count": 10,
   "metadata": {},
   "outputs": [],
   "source": [
    "# please make a fucntion, if you pass it admin name it will print special special greeting\n",
    "# if you will pass it any other name it will print nomral hi with name"
   ]
  },
  {
   "cell_type": "code",
   "execution_count": 12,
   "metadata": {},
   "outputs": [],
   "source": [
    "\n",
    "def special_greetings(name):# name is parameter of function special_\n",
    "    if name =='admin':\n",
    "        print('Warm welcome, admin')\n",
    "    else:\n",
    "        print(f'just hi {name}')"
   ]
  },
  {
   "cell_type": "code",
   "execution_count": 15,
   "metadata": {},
   "outputs": [
    {
     "name": "stdout",
     "output_type": "stream",
     "text": [
      "Warm welcome, admin\n"
     ]
    }
   ],
   "source": [
    "special_greetings('admin')#admin is argument"
   ]
  },
  {
   "cell_type": "code",
   "execution_count": 16,
   "metadata": {},
   "outputs": [
    {
     "name": "stdout",
     "output_type": "stream",
     "text": [
      "just hi umair\n"
     ]
    }
   ],
   "source": [
    "special_greetings('umair')"
   ]
  },
  {
   "cell_type": "code",
   "execution_count": null,
   "metadata": {},
   "outputs": [],
   "source": [
    "# continue here tomorrow"
   ]
  },
  {
   "cell_type": "code",
   "execution_count": 30,
   "metadata": {},
   "outputs": [],
   "source": [
    "# make a program with a dictonary of username and password (atleast 3) \n",
    "# if the user present in dictionary ask for password else print wrong username\n",
    "# if password entered is wrong print sorry you wrote wrong passwer, if password is correct login"
   ]
  },
  {
   "cell_type": "code",
   "execution_count": 31,
   "metadata": {},
   "outputs": [],
   "source": [
    "#def fun\n",
    "# use d as parater\n",
    "# input username\n",
    "#input pass\n",
    "# if username in d\n",
    "# if password == d[username]: print login\n",
    "# wrong userna e or password\n",
    "\n",
    "\n",
    "\n",
    "def signin(d):\n",
    "    u = (input(\"Enter Your Username\"))\n",
    "    p = (input(\"Enter Your Password\"))\n",
    "    if u in d:\n",
    "        if d[u] ==p:\n",
    "            print('login')\n",
    "        else:\n",
    "            print('wrong password')\n",
    "    else:\n",
    "        print('wrong username')\n",
    "\n",
    "\n",
    "    \n"
   ]
  },
  {
   "cell_type": "code",
   "execution_count": 34,
   "metadata": {},
   "outputs": [
    {
     "name": "stdout",
     "output_type": "stream",
     "text": [
      "login\n"
     ]
    }
   ],
   "source": [
    "Data = {'Abdullah': 'Islamabad101', 'UmairAli': 'Pakistan101', 'ImranKhan': 'Jazakallah101'}\n",
    "\n",
    "signin(d = Data)\n"
   ]
  },
  {
   "cell_type": "code",
   "execution_count": 35,
   "metadata": {},
   "outputs": [],
   "source": [
    "## lets say, we have a problem with student id\n",
    "# if any student forget passsword there should be option of reset passworld\n",
    "# we maek a function if a student enter wrong passwrod you will ask him to write new password and upadte dictionary\n"
   ]
  },
  {
   "cell_type": "code",
   "execution_count": null,
   "metadata": {},
   "outputs": [],
   "source": [
    "\n",
    "\n",
    "def signin(d):\n",
    "    u = (input(\"Enter Your Username\"))\n",
    "    p = (input(\"Enter Your Password\"))\n",
    "    if u in d:\n",
    "        if d[u] ==p:\n",
    "            print('login')\n",
    "        else:\n",
    "            print('wrong password')\n",
    "            yn = input('woudl you like to change password')\n",
    "            if yn == 'yes':\n",
    "                np = input('please enter new password')\n",
    "                d[u] = np\n",
    "    else:\n",
    "        print('wrong username')\n",
    "\n",
    "    return d"
   ]
  },
  {
   "cell_type": "code",
   "execution_count": null,
   "metadata": {},
   "outputs": [],
   "source": []
  },
  {
   "cell_type": "code",
   "execution_count": null,
   "metadata": {},
   "outputs": [],
   "source": []
  },
  {
   "cell_type": "code",
   "execution_count": null,
   "metadata": {},
   "outputs": [],
   "source": []
  },
  {
   "cell_type": "code",
   "execution_count": null,
   "metadata": {},
   "outputs": [],
   "source": []
  },
  {
   "cell_type": "code",
   "execution_count": null,
   "metadata": {},
   "outputs": [],
   "source": []
  },
  {
   "cell_type": "code",
   "execution_count": null,
   "metadata": {},
   "outputs": [],
   "source": []
  },
  {
   "cell_type": "code",
   "execution_count": null,
   "metadata": {},
   "outputs": [],
   "source": []
  },
  {
   "cell_type": "code",
   "execution_count": null,
   "metadata": {},
   "outputs": [],
   "source": []
  },
  {
   "cell_type": "code",
   "execution_count": null,
   "metadata": {},
   "outputs": [],
   "source": []
  },
  {
   "cell_type": "code",
   "execution_count": null,
   "metadata": {},
   "outputs": [],
   "source": []
  },
  {
   "cell_type": "code",
   "execution_count": null,
   "metadata": {},
   "outputs": [],
   "source": []
  },
  {
   "cell_type": "code",
   "execution_count": null,
   "metadata": {},
   "outputs": [],
   "source": []
  },
  {
   "cell_type": "code",
   "execution_count": null,
   "metadata": {},
   "outputs": [],
   "source": []
  },
  {
   "cell_type": "code",
   "execution_count": 23,
   "metadata": {},
   "outputs": [],
   "source": [
    "def check_fruiti_price(fruit_name):\n",
    "    fruit_dict = {'banana': 150, 'apple': 180, 'mango': 210, 'pineapple': 230, 'orange': 155}\n",
    "    # if fruit is present then pleas mention price of it\n",
    "\n",
    "    if fruit_name in fruit_dict:\n",
    "        print(f\"The price of {fruit_name} is {fruit_dict[fruit_name]}\")\n",
    "    else: \n",
    "        print('Sorry, we do not have that available')\n",
    "        return 0\n",
    "\n",
    "    return fruit_dict[fruit_name]"
   ]
  },
  {
   "cell_type": "code",
   "execution_count": 24,
   "metadata": {},
   "outputs": [
    {
     "name": "stdout",
     "output_type": "stream",
     "text": [
      "The price of banana is 150\n"
     ]
    },
    {
     "data": {
      "text/plain": [
       "150"
      ]
     },
     "execution_count": 24,
     "metadata": {},
     "output_type": "execute_result"
    }
   ],
   "source": [
    "check_fruiti_price('banana')"
   ]
  },
  {
   "cell_type": "code",
   "execution_count": 25,
   "metadata": {},
   "outputs": [
    {
     "name": "stdout",
     "output_type": "stream",
     "text": [
      "The price of apple is 180\n"
     ]
    },
    {
     "data": {
      "text/plain": [
       "180"
      ]
     },
     "execution_count": 25,
     "metadata": {},
     "output_type": "execute_result"
    }
   ],
   "source": [
    "price = check_fruiti_price('apple')\n",
    "price"
   ]
  },
  {
   "cell_type": "code",
   "execution_count": 28,
   "metadata": {},
   "outputs": [
    {
     "name": "stdout",
     "output_type": "stream",
     "text": [
      "The price of apple is 180\n",
      "The price of orange is 155\n",
      "The price of mango is 210\n",
      "The price of apple is 180\n",
      "The price of orange is 155\n",
      "your total bill is  880\n"
     ]
    }
   ],
   "source": [
    "total = 0\n",
    "for i in range(5):\n",
    "    n = input('please write fruot name')\n",
    "    total = total + check_fruiti_price(n)\n",
    "\n",
    "print('your total bill is ',total)"
   ]
  },
  {
   "cell_type": "code",
   "execution_count": null,
   "metadata": {},
   "outputs": [],
   "source": []
  }
 ],
 "metadata": {
  "kernelspec": {
   "display_name": "Python 3",
   "language": "python",
   "name": "python3"
  },
  "language_info": {
   "codemirror_mode": {
    "name": "ipython",
    "version": 3
   },
   "file_extension": ".py",
   "mimetype": "text/x-python",
   "name": "python",
   "nbconvert_exporter": "python",
   "pygments_lexer": "ipython3",
   "version": "3.12.4"
  }
 },
 "nbformat": 4,
 "nbformat_minor": 2
}
