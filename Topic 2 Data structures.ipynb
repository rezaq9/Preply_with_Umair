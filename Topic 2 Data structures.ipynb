{
 "cells": [
  {
   "cell_type": "markdown",
   "metadata": {},
   "source": [
    "### in general there are 4 main types of data structure \n",
    "##### 1. LIST (sequence based)\n",
    "##### 2. DICTIONARY (mapping based)\n",
    "##### 3. TUPLE (like list but immutable)\n",
    "##### 4. SET (not commonly used)\n"
   ]
  },
  {
   "cell_type": "code",
   "execution_count": 53,
   "metadata": {},
   "outputs": [
    {
     "name": "stdout",
     "output_type": "stream",
     "text": [
      "<class 'list'>\n",
      "[10, 10.5, (5+8j), 'apple', True, False]\n"
     ]
    },
    {
     "data": {
      "text/plain": [
       "'pp'"
      ]
     },
     "execution_count": 53,
     "metadata": {},
     "output_type": "execute_result"
    }
   ],
   "source": [
    "example = [10,10.5,5+8j,   'apple' , True, False] # \n",
    "print (type(example))\n",
    "print(example)\n",
    "\n",
    "example [3][1:3] # accesing a part of string inside a list\n"
   ]
  },
  {
   "cell_type": "code",
   "execution_count": 166,
   "metadata": {},
   "outputs": [
    {
     "data": {
      "text/plain": [
       "['__add__',\n",
       " '__class__',\n",
       " '__class_getitem__',\n",
       " '__contains__',\n",
       " '__delattr__',\n",
       " '__delitem__',\n",
       " '__dir__',\n",
       " '__doc__',\n",
       " '__eq__',\n",
       " '__format__',\n",
       " '__ge__',\n",
       " '__getattribute__',\n",
       " '__getitem__',\n",
       " '__getstate__',\n",
       " '__gt__',\n",
       " '__hash__',\n",
       " '__iadd__',\n",
       " '__imul__',\n",
       " '__init__',\n",
       " '__init_subclass__',\n",
       " '__iter__',\n",
       " '__le__',\n",
       " '__len__',\n",
       " '__lt__',\n",
       " '__mul__',\n",
       " '__ne__',\n",
       " '__new__',\n",
       " '__reduce__',\n",
       " '__reduce_ex__',\n",
       " '__repr__',\n",
       " '__reversed__',\n",
       " '__rmul__',\n",
       " '__setattr__',\n",
       " '__setitem__',\n",
       " '__sizeof__',\n",
       " '__str__',\n",
       " '__subclasshook__',\n",
       " 'append',\n",
       " 'clear',\n",
       " 'copy',\n",
       " 'count',\n",
       " 'extend',\n",
       " 'index',\n",
       " 'insert',\n",
       " 'pop',\n",
       " 'remove',\n",
       " 'reverse',\n",
       " 'sort']"
      ]
     },
     "execution_count": 166,
     "metadata": {},
     "output_type": "execute_result"
    }
   ],
   "source": [
    "colors = ['red','orange','yellow']\n",
    "dir(colors)"
   ]
  },
  {
   "cell_type": "code",
   "execution_count": 167,
   "metadata": {},
   "outputs": [],
   "source": [
    "colors.append('pink')"
   ]
  },
  {
   "cell_type": "code",
   "execution_count": 168,
   "metadata": {},
   "outputs": [],
   "source": [
    "colors.append(['black','white'])"
   ]
  },
  {
   "cell_type": "code",
   "execution_count": 169,
   "metadata": {},
   "outputs": [
    {
     "data": {
      "text/plain": [
       "['red', 'orange', 'yellow', 'pink', ['black', 'white']]"
      ]
     },
     "execution_count": 169,
     "metadata": {},
     "output_type": "execute_result"
    }
   ],
   "source": [
    "colors"
   ]
  },
  {
   "cell_type": "code",
   "execution_count": 170,
   "metadata": {},
   "outputs": [
    {
     "data": {
      "text/plain": [
       "'black'"
      ]
     },
     "execution_count": 170,
     "metadata": {},
     "output_type": "execute_result"
    }
   ],
   "source": [
    "colors [4] [0]\n"
   ]
  },
  {
   "cell_type": "code",
   "execution_count": 171,
   "metadata": {},
   "outputs": [
    {
     "data": {
      "text/plain": [
       "[0.7116974608433337,\n",
       " 0.01629264012248699,\n",
       " 0.23873518003913075,\n",
       " 0.7295476227435209,\n",
       " 0.28508648520030433,\n",
       " 0.9627222658377291]"
      ]
     },
     "execution_count": 171,
     "metadata": {},
     "output_type": "execute_result"
    }
   ],
   "source": [
    "import random\n",
    "x = [random.random() for i in range(random.randint(1,10))] # list comprehension\n",
    "x"
   ]
  },
  {
   "cell_type": "code",
   "execution_count": 172,
   "metadata": {},
   "outputs": [],
   "source": [
    "# help(random)"
   ]
  },
  {
   "cell_type": "code",
   "execution_count": 173,
   "metadata": {},
   "outputs": [
    {
     "data": {
      "text/plain": [
       "'hello'"
      ]
     },
     "execution_count": 173,
     "metadata": {},
     "output_type": "execute_result"
    }
   ],
   "source": [
    "lst = [1,2,[3,4],[5,[100,200,['hello']],23,11],1,7]\n",
    "\n",
    "lst [3] [1] [2] [0]"
   ]
  },
  {
   "cell_type": "code",
   "execution_count": 174,
   "metadata": {},
   "outputs": [
    {
     "data": {
      "text/plain": [
       "['Japan', 'UAE', 'USA']"
      ]
     },
     "execution_count": 174,
     "metadata": {},
     "output_type": "execute_result"
    }
   ],
   "source": [
    "lst = [\n",
    "[1,2,[3,4],[5,[100,200,['Japan']],23,11],1,7],\n",
    "[1,2,[3,4],[5,[100,200,['UAE']],23,11],1,7],\n",
    "[1,2,[3,4],[5,[100,200,['USA']],23,11],1,7],\n",
    "]\n",
    "[lst [i][3] [1] [2] [0] for i in range(3)] # list comprehension"
   ]
  },
  {
   "cell_type": "code",
   "execution_count": 175,
   "metadata": {},
   "outputs": [
    {
     "data": {
      "text/plain": [
       "[0, 1, 2]"
      ]
     },
     "execution_count": 175,
     "metadata": {},
     "output_type": "execute_result"
    }
   ],
   "source": [
    "[_ for _ in range(3)]"
   ]
  },
  {
   "cell_type": "code",
   "execution_count": 176,
   "metadata": {},
   "outputs": [
    {
     "data": {
      "text/plain": [
       "[0, 5, 10, 15, 20, 25, 30, 35, 40, 45, 50, 55, 60, 65, 70, 75, 80, 85, 90, 95]"
      ]
     },
     "execution_count": 176,
     "metadata": {},
     "output_type": "execute_result"
    }
   ],
   "source": [
    "# range\n",
    "#help(range)\n",
    "[i for i in range(0,100,5)] # list comprehension to observe details of range\n"
   ]
  },
  {
   "cell_type": "code",
   "execution_count": 177,
   "metadata": {},
   "outputs": [
    {
     "data": {
      "text/plain": [
       "(1, 2, 3, 4, 5, 6, 7, 8, 9)"
      ]
     },
     "execution_count": 177,
     "metadata": {},
     "output_type": "execute_result"
    }
   ],
   "source": [
    "# casting\n",
    "t = tuple(  range(1,10)    )\n",
    "t"
   ]
  },
  {
   "cell_type": "code",
   "execution_count": 178,
   "metadata": {},
   "outputs": [
    {
     "data": {
      "text/plain": [
       "[1, 2, 3, 4, 5, 6, 7, 8, 9]"
      ]
     },
     "execution_count": 178,
     "metadata": {},
     "output_type": "execute_result"
    }
   ],
   "source": [
    "\n",
    "L = list(  range(1,10)    )\n",
    "L"
   ]
  },
  {
   "cell_type": "code",
   "execution_count": 179,
   "metadata": {},
   "outputs": [
    {
     "data": {
      "text/plain": [
       "{1, 2, 3, 4, 5, 6, 7, 8, 9}"
      ]
     },
     "execution_count": 179,
     "metadata": {},
     "output_type": "execute_result"
    }
   ],
   "source": [
    "\n",
    "S = set(  range(1,10)    )\n",
    "S"
   ]
  },
  {
   "cell_type": "code",
   "execution_count": 180,
   "metadata": {},
   "outputs": [],
   "source": [
    "L.clear()"
   ]
  },
  {
   "cell_type": "code",
   "execution_count": 181,
   "metadata": {},
   "outputs": [
    {
     "data": {
      "text/plain": [
       "[]"
      ]
     },
     "execution_count": 181,
     "metadata": {},
     "output_type": "execute_result"
    }
   ],
   "source": [
    "L"
   ]
  },
  {
   "cell_type": "code",
   "execution_count": 182,
   "metadata": {},
   "outputs": [
    {
     "data": {
      "text/plain": [
       "['black', 'white']"
      ]
     },
     "execution_count": 182,
     "metadata": {},
     "output_type": "execute_result"
    }
   ],
   "source": [
    "colors.pop()"
   ]
  },
  {
   "cell_type": "code",
   "execution_count": 183,
   "metadata": {},
   "outputs": [],
   "source": [
    "colors.sort()"
   ]
  },
  {
   "cell_type": "code",
   "execution_count": 184,
   "metadata": {},
   "outputs": [
    {
     "data": {
      "text/plain": [
       "['orange', 'pink', 'red', 'yellow']"
      ]
     },
     "execution_count": 184,
     "metadata": {},
     "output_type": "execute_result"
    }
   ],
   "source": [
    "colors"
   ]
  },
  {
   "cell_type": "code",
   "execution_count": 185,
   "metadata": {},
   "outputs": [],
   "source": [
    "# please generate 10 random numbers and then sort them using sorting\n",
    "Y = [random.randint(1,10) for i in range(10)]\n",
    "Y.sort()"
   ]
  },
  {
   "cell_type": "code",
   "execution_count": 186,
   "metadata": {},
   "outputs": [
    {
     "data": {
      "text/plain": [
       "[3, 4, 5, 5, 5, 5, 6, 7, 8, 8]"
      ]
     },
     "execution_count": 186,
     "metadata": {},
     "output_type": "execute_result"
    }
   ],
   "source": [
    "Y"
   ]
  },
  {
   "cell_type": "code",
   "execution_count": 187,
   "metadata": {},
   "outputs": [],
   "source": [
    "\n",
    "random.shuffle(colors)"
   ]
  },
  {
   "cell_type": "code",
   "execution_count": 188,
   "metadata": {},
   "outputs": [
    {
     "data": {
      "text/plain": [
       "['pink', 'red', 'orange', 'yellow']"
      ]
     },
     "execution_count": 188,
     "metadata": {},
     "output_type": "execute_result"
    }
   ],
   "source": [
    "colors"
   ]
  },
  {
   "cell_type": "code",
   "execution_count": 189,
   "metadata": {},
   "outputs": [
    {
     "data": {
      "text/plain": [
       "'yellow'"
      ]
     },
     "execution_count": 189,
     "metadata": {},
     "output_type": "execute_result"
    }
   ],
   "source": [
    "random.choice(colors)"
   ]
  },
  {
   "cell_type": "code",
   "execution_count": 190,
   "metadata": {},
   "outputs": [
    {
     "data": {
      "text/plain": [
       "['pink', 'red', 'orange', 'yellow']"
      ]
     },
     "execution_count": 190,
     "metadata": {},
     "output_type": "execute_result"
    }
   ],
   "source": [
    "colors"
   ]
  },
  {
   "cell_type": "code",
   "execution_count": 191,
   "metadata": {},
   "outputs": [],
   "source": [
    "colors[0] = 'Blue'"
   ]
  },
  {
   "cell_type": "code",
   "execution_count": 192,
   "metadata": {},
   "outputs": [
    {
     "data": {
      "text/plain": [
       "['Blue', 'red', 'orange', 'yellow']"
      ]
     },
     "execution_count": 192,
     "metadata": {},
     "output_type": "execute_result"
    }
   ],
   "source": [
    "colors"
   ]
  },
  {
   "cell_type": "code",
   "execution_count": 193,
   "metadata": {},
   "outputs": [],
   "source": [
    "# please change last two element and write new colors using slicing\n"
   ]
  },
  {
   "cell_type": "code",
   "execution_count": 194,
   "metadata": {},
   "outputs": [
    {
     "data": {
      "text/plain": [
       "['Blue', 'red', 'Green', 'Tiel']"
      ]
     },
     "execution_count": 194,
     "metadata": {},
     "output_type": "execute_result"
    }
   ],
   "source": [
    "colors [2] = 'Green'\n",
    "colors [3] = 'Tiel'\n",
    "\n",
    "colors"
   ]
  },
  {
   "cell_type": "code",
   "execution_count": 195,
   "metadata": {},
   "outputs": [
    {
     "data": {
      "text/plain": [
       "[1, 23, 5, 2, 12, 23, 5214, 5, 2, 23, 0, 0, 0, 0, 0, 0, 0]"
      ]
     },
     "execution_count": 195,
     "metadata": {},
     "output_type": "execute_result"
    }
   ],
   "source": [
    "x = [1,23,5,2,12,23,5214,5,2,23,123,53,21,434,23423,53,34]\n",
    "x[10:] = [0,0,0,0,0,0,0]\n",
    "x"
   ]
  },
  {
   "cell_type": "code",
   "execution_count": 196,
   "metadata": {},
   "outputs": [
    {
     "data": {
      "text/plain": [
       "[1000, 1000, 1000, 2, 12, 23, 5214, 5, 2, 23, 0, 0, 0, 0, 0, 0, 0]"
      ]
     },
     "execution_count": 196,
     "metadata": {},
     "output_type": "execute_result"
    }
   ],
   "source": [
    "x[0:3] = [1000,1000,1000]\n",
    "x"
   ]
  },
  {
   "cell_type": "code",
   "execution_count": 197,
   "metadata": {},
   "outputs": [],
   "source": [
    "# 1. list comprehension because of loops\n",
    "# 2. random module as we dont know its exact structures"
   ]
  },
  {
   "cell_type": "code",
   "execution_count": 198,
   "metadata": {},
   "outputs": [
    {
     "data": {
      "text/plain": [
       "[0, 1, 2, 3, 4, 5, 6, 7, 8, 9]"
      ]
     },
     "execution_count": 198,
     "metadata": {},
     "output_type": "execute_result"
    }
   ],
   "source": [
    "'''\n",
    "[<variable/value> for <variable> in <structure/range>]\n",
    "\n",
    "'''\n",
    "[i for i in range(10)] # run a loop for 10 times and store value in a list for each iteration"
   ]
  },
  {
   "cell_type": "code",
   "execution_count": 199,
   "metadata": {},
   "outputs": [
    {
     "data": {
      "text/plain": [
       "[10, 10, 10, 10, 10, 10, 10, 10, 10, 10]"
      ]
     },
     "execution_count": 199,
     "metadata": {},
     "output_type": "execute_result"
    }
   ],
   "source": [
    "[10 for i in range( 10)] # "
   ]
  },
  {
   "cell_type": "code",
   "execution_count": 200,
   "metadata": {},
   "outputs": [
    {
     "data": {
      "text/plain": [
       "['orange_hello', 'mango_hello', 'strawberry_hello']"
      ]
     },
     "execution_count": 200,
     "metadata": {},
     "output_type": "execute_result"
    }
   ],
   "source": [
    "p = ['orange','mango','strawberry']\n",
    "[i+'_hello' for i in p]"
   ]
  },
  {
   "cell_type": "code",
   "execution_count": 201,
   "metadata": {},
   "outputs": [
    {
     "data": {
      "text/plain": [
       "[1000, 1000, 1000, 2, 12, 23, 5214, 5, 2, 23, 0, 0, 0, 0, 0, 0, 0]"
      ]
     },
     "execution_count": 201,
     "metadata": {},
     "output_type": "execute_result"
    }
   ],
   "source": [
    "x"
   ]
  },
  {
   "cell_type": "code",
   "execution_count": 202,
   "metadata": {},
   "outputs": [],
   "source": [
    "x = [1,2,3]\n",
    "y = x.copy()"
   ]
  },
  {
   "cell_type": "code",
   "execution_count": 203,
   "metadata": {},
   "outputs": [],
   "source": [
    "y[0] = '10000000'"
   ]
  },
  {
   "cell_type": "code",
   "execution_count": 204,
   "metadata": {},
   "outputs": [
    {
     "data": {
      "text/plain": [
       "['10000000', 2, 3]"
      ]
     },
     "execution_count": 204,
     "metadata": {},
     "output_type": "execute_result"
    }
   ],
   "source": [
    "y"
   ]
  },
  {
   "cell_type": "code",
   "execution_count": 205,
   "metadata": {},
   "outputs": [
    {
     "data": {
      "text/plain": [
       "[1, 2, 3]"
      ]
     },
     "execution_count": 205,
     "metadata": {},
     "output_type": "execute_result"
    }
   ],
   "source": [
    "x"
   ]
  },
  {
   "cell_type": "code",
   "execution_count": 206,
   "metadata": {},
   "outputs": [
    {
     "name": "stdout",
     "output_type": "stream",
     "text": [
      "Requirement already satisfied: matplotlib in /Library/Frameworks/Python.framework/Versions/3.12/lib/python3.12/site-packages (3.9.1)\n",
      "Requirement already satisfied: contourpy>=1.0.1 in /Library/Frameworks/Python.framework/Versions/3.12/lib/python3.12/site-packages (from matplotlib) (1.2.1)\n",
      "Requirement already satisfied: cycler>=0.10 in /Library/Frameworks/Python.framework/Versions/3.12/lib/python3.12/site-packages (from matplotlib) (0.12.1)\n",
      "Requirement already satisfied: fonttools>=4.22.0 in /Library/Frameworks/Python.framework/Versions/3.12/lib/python3.12/site-packages (from matplotlib) (4.53.1)\n",
      "Requirement already satisfied: kiwisolver>=1.3.1 in /Library/Frameworks/Python.framework/Versions/3.12/lib/python3.12/site-packages (from matplotlib) (1.4.5)\n",
      "Requirement already satisfied: numpy>=1.23 in /Library/Frameworks/Python.framework/Versions/3.12/lib/python3.12/site-packages (from matplotlib) (2.0.0)\n",
      "Requirement already satisfied: packaging>=20.0 in /Users/reza/Library/Python/3.12/lib/python/site-packages (from matplotlib) (24.1)\n",
      "Requirement already satisfied: pillow>=8 in /Library/Frameworks/Python.framework/Versions/3.12/lib/python3.12/site-packages (from matplotlib) (10.4.0)\n",
      "Requirement already satisfied: pyparsing>=2.3.1 in /Library/Frameworks/Python.framework/Versions/3.12/lib/python3.12/site-packages (from matplotlib) (3.1.2)\n",
      "Requirement already satisfied: python-dateutil>=2.7 in /Users/reza/Library/Python/3.12/lib/python/site-packages (from matplotlib) (2.9.0.post0)\n",
      "Requirement already satisfied: six>=1.5 in /Users/reza/Library/Python/3.12/lib/python/site-packages (from python-dateutil>=2.7->matplotlib) (1.16.0)\n",
      "\n",
      "\u001b[1m[\u001b[0m\u001b[34;49mnotice\u001b[0m\u001b[1;39;49m]\u001b[0m\u001b[39;49m A new release of pip is available: \u001b[0m\u001b[31;49m24.0\u001b[0m\u001b[39;49m -> \u001b[0m\u001b[32;49m24.1.2\u001b[0m\n",
      "\u001b[1m[\u001b[0m\u001b[34;49mnotice\u001b[0m\u001b[1;39;49m]\u001b[0m\u001b[39;49m To update, run: \u001b[0m\u001b[32;49mpython3 -m pip install --upgrade pip\u001b[0m\n",
      "Note: you may need to restart the kernel to use updated packages.\n"
     ]
    }
   ],
   "source": [
    "pip install matplotlib"
   ]
  },
  {
   "cell_type": "code",
   "execution_count": 209,
   "metadata": {},
   "outputs": [
    {
     "data": {
      "text/plain": [
       "[<matplotlib.lines.Line2D at 0x11c2a2510>]"
      ]
     },
     "execution_count": 209,
     "metadata": {},
     "output_type": "execute_result"
    },
    {
     "data": {
      "image/png": "[encoded data removed]",
      "text/plain": [
       "<Figure size 640x480 with 1 Axes>"
      ]
     },
     "metadata": {},
     "output_type": "display_data"
    }
   ],
   "source": [
    "#extra\n",
    "import matplotlib.pyplot as plt\n",
    "import math\n",
    "x = [i for i in range(0,360)]\n",
    "y = [ math.sin(i) for i in range(0,360)  ]\n",
    "plt.plot(x,y)"
   ]
  },
  {
   "cell_type": "code",
   "execution_count": 210,
   "metadata": {},
   "outputs": [],
   "source": [
    "# Dictionary "
   ]
  },
  {
   "cell_type": "code",
   "execution_count": 212,
   "metadata": {},
   "outputs": [],
   "source": [
    "lst = [10,20,30]\n",
    "dictionary = {0:10,1:20,8:30}"
   ]
  },
  {
   "cell_type": "code",
   "execution_count": 216,
   "metadata": {},
   "outputs": [
    {
     "data": {
      "text/plain": [
       "30"
      ]
     },
     "execution_count": 216,
     "metadata": {},
     "output_type": "execute_result"
    }
   ],
   "source": [
    "dictionary[8]"
   ]
  },
  {
   "cell_type": "code",
   "execution_count": 217,
   "metadata": {},
   "outputs": [],
   "source": [
    "# please maek a dictionary with fruit name as key and color as value, pleawe write 3 items()"
   ]
  },
  {
   "cell_type": "code",
   "execution_count": 218,
   "metadata": {},
   "outputs": [],
   "source": [
    "fruitketab = {'Banana': 'Yellow', 'Orange': 'Portogal', 'Green': 'Apple'} # fd = dict (x='hello' , y = 'bye')"
   ]
  },
  {
   "cell_type": "code",
   "execution_count": 219,
   "metadata": {},
   "outputs": [
    {
     "data": {
      "text/plain": [
       "'Yellow'"
      ]
     },
     "execution_count": 219,
     "metadata": {},
     "output_type": "execute_result"
    }
   ],
   "source": [
    "fruitketab ['Banana']"
   ]
  },
  {
   "cell_type": "code",
   "execution_count": 220,
   "metadata": {},
   "outputs": [],
   "source": [
    "# add something \n",
    "fruitketab['Strawberry'] = 'Red'"
   ]
  },
  {
   "cell_type": "code",
   "execution_count": 221,
   "metadata": {},
   "outputs": [
    {
     "data": {
      "text/plain": [
       "{'Banana': 'Yellow',\n",
       " 'Orange': 'Portogal',\n",
       " 'Green': 'Apple',\n",
       " 'Strawberry': 'Red'}"
      ]
     },
     "execution_count": 221,
     "metadata": {},
     "output_type": "execute_result"
    }
   ],
   "source": [
    "fruitketab"
   ]
  },
  {
   "cell_type": "code",
   "execution_count": 224,
   "metadata": {},
   "outputs": [],
   "source": [
    "# how to detete\n",
    "del fruitketab['Banana']"
   ]
  },
  {
   "cell_type": "code",
   "execution_count": 225,
   "metadata": {},
   "outputs": [
    {
     "data": {
      "text/plain": [
       "{'Orange': 'Portogal', 'Green': 'Apple', 'Strawberry': 'Red'}"
      ]
     },
     "execution_count": 225,
     "metadata": {},
     "output_type": "execute_result"
    }
   ],
   "source": [
    "fruitketab"
   ]
  },
  {
   "cell_type": "code",
   "execution_count": 226,
   "metadata": {},
   "outputs": [
    {
     "data": {
      "text/plain": [
       "dict_keys(['Orange', 'Green', 'Strawberry'])"
      ]
     },
     "execution_count": 226,
     "metadata": {},
     "output_type": "execute_result"
    }
   ],
   "source": [
    "# all my keys\n",
    "fruitketab.keys()"
   ]
  },
  {
   "cell_type": "code",
   "execution_count": 228,
   "metadata": {},
   "outputs": [
    {
     "data": {
      "text/plain": [
       "dict_values(['Portogal', 'Apple', 'Red'])"
      ]
     },
     "execution_count": 228,
     "metadata": {},
     "output_type": "execute_result"
    }
   ],
   "source": [
    "fruitketab.values()"
   ]
  },
  {
   "cell_type": "code",
   "execution_count": 231,
   "metadata": {},
   "outputs": [
    {
     "data": {
      "text/plain": [
       "dict_items([('Orange', 'Portogal'), ('Green', 'Apple'), ('Strawberry', 'Red')])"
      ]
     },
     "execution_count": 231,
     "metadata": {},
     "output_type": "execute_result"
    }
   ],
   "source": [
    "fruitketab.items()"
   ]
  },
  {
   "cell_type": "code",
   "execution_count": null,
   "metadata": {},
   "outputs": [],
   "source": [
    "# quick introduciton to for lopp"
   ]
  },
  {
   "cell_type": "code",
   "execution_count": 252,
   "metadata": {},
   "outputs": [
    {
     "name": "stdout",
     "output_type": "stream",
     "text": [
      "100\n",
      "200\n",
      "300\n",
      "400\n",
      "500\n"
     ]
    }
   ],
   "source": [
    "x = [100,200,300,400,500]\n",
    "for reza in x:\n",
    "    print(reza)"
   ]
  },
  {
   "cell_type": "code",
   "execution_count": 263,
   "metadata": {},
   "outputs": [
    {
     "name": "stdout",
     "output_type": "stream",
     "text": [
      "20 * 100 = 2000 force\n",
      "20 * 150 = 3000 force\n",
      "20 * 200 = 4000 force\n",
      "20 * 400 = 8000 force\n",
      "20 * 500 = 10000 force\n"
     ]
    }
   ],
   "source": [
    "# someone says you have to calculate force on body if i give you mass of the body and acces is contant as 20\n",
    "a = 20\n",
    "m = 100\n",
    "F = m * a\n",
    "print(f'{a} * {m} = {F} force')\n",
    "\n",
    "a = 20\n",
    "m = 150\n",
    "F = m * a\n",
    "print(f'{a} * {m} = {F} force')\n",
    "\n",
    "a = 20\n",
    "m = 200\n",
    "F = m * a\n",
    "print(f'{a} * {m} = {F} force')\n",
    "\n",
    "a = 20\n",
    "m = 400\n",
    "F = m * a\n",
    "print(f'{a} * {m} = {F} force')\n",
    "\n",
    "a = 20\n",
    "m = 500\n",
    "F = m * a\n",
    "print(f'{a} * {m} = {F} force')\n",
    "\n",
    "\n"
   ]
  },
  {
   "cell_type": "code",
   "execution_count": 264,
   "metadata": {},
   "outputs": [
    {
     "name": "stdout",
     "output_type": "stream",
     "text": [
      "20 * 10 = 200 force\n",
      "20 * 150 = 3000 force\n",
      "20 * 200 = 4000 force\n",
      "20 * 400 = 8000 force\n",
      "20 * 500 = 10000 force\n"
     ]
    }
   ],
   "source": [
    "mass = [10,150,200,400,500]\n",
    "a = 20\n",
    "for m in mass:# collect 1 value sequentially and run the block\n",
    "    F = m*a\n",
    "    print(f'{a} * {m} = {F} force')"
   ]
  },
  {
   "cell_type": "code",
   "execution_count": 265,
   "metadata": {},
   "outputs": [
    {
     "data": {
      "text/plain": [
       "False"
      ]
     },
     "execution_count": 265,
     "metadata": {},
     "output_type": "execute_result"
    }
   ],
   "source": [
    "'apple' in ['orange','mango','strawberry']"
   ]
  },
  {
   "cell_type": "code",
   "execution_count": 272,
   "metadata": {},
   "outputs": [
    {
     "name": "stdout",
     "output_type": "stream",
     "text": [
      "['orange', 'mango', 'strawberry', True, 100, 200.5] <class 'list'>\n",
      "orange <class 'str'>\n",
      "mango <class 'str'>\n",
      "strawberry <class 'str'>\n",
      "True <class 'bool'>\n",
      "100 <class 'int'>\n",
      "200.5 <class 'float'>\n"
     ]
    }
   ],
   "source": [
    "Y = ['orange','mango','strawberry',True,100,200.5]\n",
    "print(Y,type(Y))\n",
    "for x in Y:\n",
    "    print(x,type(x))"
   ]
  },
  {
   "cell_type": "code",
   "execution_count": null,
   "metadata": {},
   "outputs": [],
   "source": []
  },
  {
   "cell_type": "code",
   "execution_count": 242,
   "metadata": {},
   "outputs": [
    {
     "data": {
      "text/plain": [
       "{'red': 100, 'blue': 200, 'orange': 150, 'pink': 180, 'green': 200}"
      ]
     },
     "execution_count": 242,
     "metadata": {},
     "output_type": "execute_result"
    }
   ],
   "source": [
    "x = [100,200,150,180,200]\n",
    "y = ['red','blue','orange','pink','green']\n",
    "z = {x[ind]:y[ind] for ind in range(len(x))}# search for index (skipping)\n",
    "p = {j:i for i,j in zip(x,y)} # (skipping)\n",
    "p"
   ]
  },
  {
   "cell_type": "code",
   "execution_count": 244,
   "metadata": {},
   "outputs": [],
   "source": [
    "#dir(p)"
   ]
  },
  {
   "cell_type": "code",
   "execution_count": 245,
   "metadata": {},
   "outputs": [
    {
     "data": {
      "text/plain": [
       "{'red': 100, 'blue': 200, 'orange': 150, 'pink': 180, 'green': 200}"
      ]
     },
     "execution_count": 245,
     "metadata": {},
     "output_type": "execute_result"
    }
   ],
   "source": [
    "# lets say by mistake we write a key name which is not present\n",
    "p"
   ]
  },
  {
   "cell_type": "code",
   "execution_count": 276,
   "metadata": {},
   "outputs": [
    {
     "data": {
      "text/plain": [
       "'Wrong umair key'"
      ]
     },
     "execution_count": 276,
     "metadata": {},
     "output_type": "execute_result"
    }
   ],
   "source": [
    "#  p['Green']\n",
    "p.get('Green','Wrong umair key')# get Green if not present then print 'Wrong key'"
   ]
  },
  {
   "cell_type": "code",
   "execution_count": 251,
   "metadata": {},
   "outputs": [
    {
     "data": {
      "text/plain": [
       "100"
      ]
     },
     "execution_count": 251,
     "metadata": {},
     "output_type": "execute_result"
    }
   ],
   "source": [
    "p.get('red',0)"
   ]
  },
  {
   "cell_type": "code",
   "execution_count": 277,
   "metadata": {},
   "outputs": [],
   "source": [
    "# p"
   ]
  },
  {
   "cell_type": "code",
   "execution_count": 278,
   "metadata": {},
   "outputs": [
    {
     "data": {
      "text/plain": [
       "{'red': 100, 'blue': 200, 'orange': 150, 'pink': 180, 'green': 200}"
      ]
     },
     "execution_count": 278,
     "metadata": {},
     "output_type": "execute_result"
    }
   ],
   "source": [
    "p"
   ]
  },
  {
   "cell_type": "code",
   "execution_count": 280,
   "metadata": {},
   "outputs": [],
   "source": [
    "p ['pink'] = 500"
   ]
  },
  {
   "cell_type": "code",
   "execution_count": 281,
   "metadata": {},
   "outputs": [
    {
     "data": {
      "text/plain": [
       "{'red': 100, 'blue': 200, 'orange': 150, 'pink': 500, 'green': 200}"
      ]
     },
     "execution_count": 281,
     "metadata": {},
     "output_type": "execute_result"
    }
   ],
   "source": [
    "p"
   ]
  },
  {
   "cell_type": "code",
   "execution_count": 282,
   "metadata": {},
   "outputs": [],
   "source": [
    "car_model = {\n",
    "    'name':'Ford',\n",
    "    'model':'Mustang',\n",
    "    'year':1964\n",
    "}\n",
    "\n",
    "car_model_2 = { \n",
    "    'name':'honda',\n",
    "    'model':'toyota cross',\n",
    "    'year':2024\n",
    "}"
   ]
  },
  {
   "cell_type": "code",
   "execution_count": 284,
   "metadata": {},
   "outputs": [
    {
     "name": "stdout",
     "output_type": "stream",
     "text": [
      "{'car_models': [{'name': 'Ford', 'model': 'Mustang', 'year': 1964}, {'name': 'honda', 'model': 'toyota cross', 'year': 2024}]}\n"
     ]
    }
   ],
   "source": [
    "data = {'car_models'  : [car_model,car_model_2]}\n",
    "print(data)"
   ]
  },
  {
   "cell_type": "code",
   "execution_count": 296,
   "metadata": {},
   "outputs": [
    {
     "ename": "KeyError",
     "evalue": "'car_modelsa'",
     "output_type": "error",
     "traceback": [
      "\u001b[0;31m---------------------------------------------------------------------------\u001b[0m",
      "\u001b[0;31mKeyError\u001b[0m                                  Traceback (most recent call last)",
      "Cell \u001b[0;32mIn[296], line 1\u001b[0m\n\u001b[0;32m----> 1\u001b[0m \u001b[43mdata\u001b[49m\u001b[43m \u001b[49m\u001b[43m[\u001b[49m\u001b[38;5;124;43m'\u001b[39;49m\u001b[38;5;124;43mcar_modelsa\u001b[39;49m\u001b[38;5;124;43m'\u001b[39;49m\u001b[43m]\u001b[49m [\u001b[38;5;241m0\u001b[39m] [\u001b[38;5;124m'\u001b[39m\u001b[38;5;124mmodel\u001b[39m\u001b[38;5;124m'\u001b[39m]\n",
      "\u001b[0;31mKeyError\u001b[0m: 'car_modelsa'"
     ]
    }
   ],
   "source": [
    "data ['car_models'] [0] ['model']"
   ]
  },
  {
   "cell_type": "code",
   "execution_count": 299,
   "metadata": {},
   "outputs": [
    {
     "data": {
      "text/plain": [
       "'Mustang'"
      ]
     },
     "execution_count": 299,
     "metadata": {},
     "output_type": "execute_result"
    }
   ],
   "source": [
    "data.get('car_models')[0].get('model')"
   ]
  },
  {
   "cell_type": "code",
   "execution_count": 302,
   "metadata": {},
   "outputs": [
    {
     "data": {
      "text/plain": [
       "'Sweden'"
      ]
     },
     "execution_count": 302,
     "metadata": {},
     "output_type": "execute_result"
    }
   ],
   "source": [
    "country_codes = {\n",
    "    \"US\": \"United States\",\n",
    "    \"CA\": \"Canada\",\n",
    "    \"GB\": \"United Kingdom\",\n",
    "    \"DE\": \"Germany\",\n",
    "    \"FR\": \"France\",\n",
    "    \"JP\": \"Japan\",\n",
    "    \"AU\": \"Australia\",\n",
    "    \"IN\": \"India\",\n",
    "    \"CN\": \"China\",\n",
    "    \"BR\": \"Brazil\",\n",
    "    \"ZA\": \"South Africa\",\n",
    "    \"RU\": \"Russia\",\n",
    "    \"IT\": \"Italy\",\n",
    "    \"ES\": \"Spain\",\n",
    "    \"MX\": \"Mexico\",\n",
    "    \"KR\": \"South Korea\",\n",
    "    \"NL\": \"Netherlands\",\n",
    "    \"SE\": \"Sweden\",\n",
    "    \"CH\": \"Switzerland\",\n",
    "    \"AR\": \"Argentina\"\n",
    "}\n",
    "\n",
    "country_codes.get('SE')"
   ]
  },
  {
   "cell_type": "code",
   "execution_count": 303,
   "metadata": {},
   "outputs": [
    {
     "data": {
      "text/plain": [
       "dict_keys(['US', 'CA', 'GB', 'DE', 'FR', 'JP', 'AU', 'IN', 'CN', 'BR', 'ZA', 'RU', 'IT', 'ES', 'MX', 'KR', 'NL', 'SE', 'CH', 'AR'])"
      ]
     },
     "execution_count": 303,
     "metadata": {},
     "output_type": "execute_result"
    }
   ],
   "source": [
    "country_codes.keys()"
   ]
  },
  {
   "cell_type": "code",
   "execution_count": 35,
   "metadata": {},
   "outputs": [
    {
     "name": "stdout",
     "output_type": "stream",
     "text": [
      "<class 'list'>\n"
     ]
    },
    {
     "data": {
      "text/plain": [
       "dict_values(['CN', 'China'])"
      ]
     },
     "execution_count": 35,
     "metadata": {},
     "output_type": "execute_result"
    }
   ],
   "source": [
    "countries = [\n",
    "    {\"code\": \"US\", \"name\": \"United States\"},\n",
    "    {\"code\": \"CA\", \"name\": \"Canada\"},\n",
    "    {\"code\": \"GB\", \"name\": \"United Kingdom\"},\n",
    "    {\"code\": \"DE\", \"name\": \"Germany\"},\n",
    "    {\"code\": \"FR\", \"name\": \"France\"},\n",
    "    {\"code\": \"JP\", \"name\": \"Japan\"},\n",
    "    {\"code\": \"AU\", \"name\": \"Australia\"},\n",
    "    {\"code\": \"IN\", \"name\": \"India\"},\n",
    "    {\"code\": \"CN\", \"name\": \"China\"},\n",
    "    {\"code\": \"BR\", \"name\": \"Brazil\"},\n",
    "    {\"code\": \"ZA\", \"name\": \"South Africa\"},\n",
    "    {\"code\": \"RU\", \"name\": \"Russia\"},\n",
    "    {\"code\": \"IT\", \"name\": \"Italy\"},\n",
    "    {\"code\": \"ES\", \"name\": \"Spain\"},\n",
    "    {\"code\": \"MX\", \"name\": \"Mexico\"},\n",
    "    {\"code\": \"KR\", \"name\": \"South Korea\"},\n",
    "    {\"code\": \"NL\", \"name\": \"Netherlands\"},\n",
    "    {\"code\": \"SE\", \"name\": \"Sweden\"},\n",
    "    {\"code\": \"CH\", \"name\": \"Switzerland\"},\n",
    "    {\"code\": \"AR\", \"name\": \"Argentina\"}\n",
    "]\n",
    "print (type(countries))\n",
    "\n",
    "countries [8].values()"
   ]
  },
  {
   "cell_type": "code",
   "execution_count": 19,
   "metadata": {},
   "outputs": [
    {
     "name": "stdout",
     "output_type": "stream",
     "text": [
      "Berlin\n"
     ]
    }
   ],
   "source": [
    "## Problem 1:\n",
    "#Write a Python function that takes a country code as an \n",
    "#argument and returns the capital city of that country.\n",
    "#Given the following dictionary:\n",
    "\n",
    "capitals = {\n",
    "    \"US\": \"Washington, D.C.\",\n",
    "    \"CA\": \"Ottawa\",\n",
    "    \"GB\": \"London\",\n",
    "    \"DE\": \"Berlin\",\n",
    "    \"FR\": \"Paris\"\n",
    "}\n",
    "\n",
    "print (capitals.get('DE'))"
   ]
  },
  {
   "cell_type": "code",
   "execution_count": null,
   "metadata": {},
   "outputs": [],
   "source": [
    "# Correct code to return the capital city\n",
    "#but may not be an argument: print (capitals.get('GB')) ^^^"
   ]
  },
  {
   "cell_type": "code",
   "execution_count": 20,
   "metadata": {},
   "outputs": [
    {
     "data": {
      "text/plain": [
       "1393409038"
      ]
     },
     "execution_count": 20,
     "metadata": {},
     "output_type": "execute_result"
    }
   ],
   "source": [
    "## Problem 2:\n",
    "#Given the following dictionary:\n",
    "#Write a Python program to find and print the population of India (country code \"IN\") from the dictionary.\n",
    "populations = {\n",
    "    \"IN\": 1393409038,\n",
    "    \"CN\": 1444216107,\n",
    "    \"US\": 331893745,\n",
    "    \"ID\": 276361783,\n",
    "    \"PK\": 225199937\n",
    "}\n",
    "\n",
    "populations.get(\"IN\")"
   ]
  },
  {
   "cell_type": "code",
   "execution_count": 39,
   "metadata": {},
   "outputs": [
    {
     "data": {
      "text/plain": [
       "'Japanese'"
      ]
     },
     "execution_count": 39,
     "metadata": {},
     "output_type": "execute_result"
    }
   ],
   "source": [
    "## Problem 3:\n",
    "#Access and print the capital city of Japan from the dictionary.\n",
    "#Given the following nested dictionary structure:\n",
    "country_info = {\n",
    "    \"ES\": {\"language\": \"Spanish\", \"capital\": \"Madrid\", \"population\": 47351567},\n",
    "    \"JP\": {\"language\": \"Japanese\", \"capital\": \"Tokyo\", \"population\": 125960000},\n",
    "    \"KR\": {\"language\": \"Korean\", \"capital\": \"Seoul\", \"population\": 51780579},\n",
    "    \"IT\": {\"language\": \"Italian\", \"capital\": \"Rome\", \"population\": 60317116},\n",
    "    \"BR\": {\"language\": \"Portuguese\", \"capital\": \"Brasília\", \"population\": 213993437}\n",
    "}\n",
    "\n",
    "country_info [\"JP\"] [\"language\"]"
   ]
  },
  {
   "cell_type": "markdown",
   "metadata": {},
   "source": [
    "### Tuple"
   ]
  },
  {
   "cell_type": "code",
   "execution_count": 66,
   "metadata": {},
   "outputs": [
    {
     "data": {
      "text/plain": [
       "(1, 2, 3, 'Apple')"
      ]
     },
     "execution_count": 66,
     "metadata": {},
     "output_type": "execute_result"
    }
   ],
   "source": [
    "x =( 1 ,2, 3,'Apple')\n",
    "x\n"
   ]
  },
  {
   "cell_type": "code",
   "execution_count": 67,
   "metadata": {},
   "outputs": [],
   "source": [
    "#x,*extra,y = 9,200,5,4,300 # storing information when not sure of exact size"
   ]
  },
  {
   "cell_type": "code",
   "execution_count": 68,
   "metadata": {},
   "outputs": [],
   "source": [
    "# tuple are immutable, they can not be changed, once made"
   ]
  },
  {
   "cell_type": "code",
   "execution_count": 70,
   "metadata": {},
   "outputs": [
    {
     "ename": "TypeError",
     "evalue": "'tuple' object does not support item assignment",
     "output_type": "error",
     "traceback": [
      "\u001b[0;31m---------------------------------------------------------------------------\u001b[0m",
      "\u001b[0;31mTypeError\u001b[0m                                 Traceback (most recent call last)",
      "Cell \u001b[0;32mIn[70], line 1\u001b[0m\n\u001b[0;32m----> 1\u001b[0m \u001b[43mx\u001b[49m\u001b[43m[\u001b[49m\u001b[38;5;241;43m0\u001b[39;49m\u001b[43m]\u001b[49m \u001b[38;5;241m=\u001b[39m \u001b[38;5;241m200\u001b[39m\n",
      "\u001b[0;31mTypeError\u001b[0m: 'tuple' object does not support item assignment"
     ]
    }
   ],
   "source": [
    "x[0] = 200 # i am trying to change first value of tuple"
   ]
  },
  {
   "cell_type": "code",
   "execution_count": 71,
   "metadata": {},
   "outputs": [],
   "source": [
    "# you can cast tuple to other stucture and then you can later change it back to tuple\n",
    "x = list(x)"
   ]
  },
  {
   "cell_type": "code",
   "execution_count": 72,
   "metadata": {},
   "outputs": [],
   "source": [
    "x[0] = 2000"
   ]
  },
  {
   "cell_type": "code",
   "execution_count": 73,
   "metadata": {},
   "outputs": [],
   "source": [
    "x = tuple(x)"
   ]
  },
  {
   "cell_type": "code",
   "execution_count": 74,
   "metadata": {},
   "outputs": [
    {
     "data": {
      "text/plain": [
       "(2000, 2, 3, 'Apple')"
      ]
     },
     "execution_count": 74,
     "metadata": {},
     "output_type": "execute_result"
    }
   ],
   "source": [
    "x"
   ]
  },
  {
   "cell_type": "code",
   "execution_count": 75,
   "metadata": {},
   "outputs": [
    {
     "data": {
      "text/plain": [
       "['__add__',\n",
       " '__class__',\n",
       " '__class_getitem__',\n",
       " '__contains__',\n",
       " '__delattr__',\n",
       " '__dir__',\n",
       " '__doc__',\n",
       " '__eq__',\n",
       " '__format__',\n",
       " '__ge__',\n",
       " '__getattribute__',\n",
       " '__getitem__',\n",
       " '__getnewargs__',\n",
       " '__getstate__',\n",
       " '__gt__',\n",
       " '__hash__',\n",
       " '__init__',\n",
       " '__init_subclass__',\n",
       " '__iter__',\n",
       " '__le__',\n",
       " '__len__',\n",
       " '__lt__',\n",
       " '__mul__',\n",
       " '__ne__',\n",
       " '__new__',\n",
       " '__reduce__',\n",
       " '__reduce_ex__',\n",
       " '__repr__',\n",
       " '__rmul__',\n",
       " '__setattr__',\n",
       " '__sizeof__',\n",
       " '__str__',\n",
       " '__subclasshook__',\n",
       " 'count',\n",
       " 'index']"
      ]
     },
     "execution_count": 75,
     "metadata": {},
     "output_type": "execute_result"
    }
   ],
   "source": [
    "dir(x)"
   ]
  },
  {
   "cell_type": "code",
   "execution_count": 77,
   "metadata": {},
   "outputs": [
    {
     "data": {
      "text/plain": [
       "1"
      ]
     },
     "execution_count": 77,
     "metadata": {},
     "output_type": "execute_result"
    }
   ],
   "source": [
    "x.count('Apple')"
   ]
  },
  {
   "cell_type": "code",
   "execution_count": 79,
   "metadata": {},
   "outputs": [
    {
     "data": {
      "text/plain": [
       "3"
      ]
     },
     "execution_count": 79,
     "metadata": {},
     "output_type": "execute_result"
    }
   ],
   "source": [
    "x.index('Apple')"
   ]
  },
  {
   "cell_type": "code",
   "execution_count": 80,
   "metadata": {},
   "outputs": [],
   "source": [
    "# set"
   ]
  },
  {
   "cell_type": "code",
   "execution_count": 81,
   "metadata": {},
   "outputs": [],
   "source": [
    "s = {1,2,3,4,5,6,True,'abc'}\n"
   ]
  },
  {
   "cell_type": "code",
   "execution_count": 82,
   "metadata": {},
   "outputs": [
    {
     "data": {
      "text/plain": [
       "['__and__',\n",
       " '__class__',\n",
       " '__class_getitem__',\n",
       " '__contains__',\n",
       " '__delattr__',\n",
       " '__dir__',\n",
       " '__doc__',\n",
       " '__eq__',\n",
       " '__format__',\n",
       " '__ge__',\n",
       " '__getattribute__',\n",
       " '__getstate__',\n",
       " '__gt__',\n",
       " '__hash__',\n",
       " '__iand__',\n",
       " '__init__',\n",
       " '__init_subclass__',\n",
       " '__ior__',\n",
       " '__isub__',\n",
       " '__iter__',\n",
       " '__ixor__',\n",
       " '__le__',\n",
       " '__len__',\n",
       " '__lt__',\n",
       " '__ne__',\n",
       " '__new__',\n",
       " '__or__',\n",
       " '__rand__',\n",
       " '__reduce__',\n",
       " '__reduce_ex__',\n",
       " '__repr__',\n",
       " '__ror__',\n",
       " '__rsub__',\n",
       " '__rxor__',\n",
       " '__setattr__',\n",
       " '__sizeof__',\n",
       " '__str__',\n",
       " '__sub__',\n",
       " '__subclasshook__',\n",
       " '__xor__',\n",
       " 'add',\n",
       " 'clear',\n",
       " 'copy',\n",
       " 'difference',\n",
       " 'difference_update',\n",
       " 'discard',\n",
       " 'intersection',\n",
       " 'intersection_update',\n",
       " 'isdisjoint',\n",
       " 'issubset',\n",
       " 'issuperset',\n",
       " 'pop',\n",
       " 'remove',\n",
       " 'symmetric_difference',\n",
       " 'symmetric_difference_update',\n",
       " 'union',\n",
       " 'update']"
      ]
     },
     "execution_count": 82,
     "metadata": {},
     "output_type": "execute_result"
    }
   ],
   "source": [
    "dir(s)"
   ]
  },
  {
   "cell_type": "code",
   "execution_count": 90,
   "metadata": {},
   "outputs": [
    {
     "data": {
      "text/plain": [
       "{1, 2}"
      ]
     },
     "execution_count": 90,
     "metadata": {},
     "output_type": "execute_result"
    }
   ],
   "source": [
    "g = {1,1,1,1,1,1,2,2,2,2,2,2}\n",
    "g"
   ]
  },
  {
   "cell_type": "code",
   "execution_count": 83,
   "metadata": {},
   "outputs": [],
   "source": [
    "y = set(x)"
   ]
  },
  {
   "cell_type": "code",
   "execution_count": 92,
   "metadata": {},
   "outputs": [],
   "source": [
    "# there is a problem when we have to get unique elements\n",
    "x = ['apple','apple','orange','mango',1,1,1,1,1,2000,2000]\n",
    "\n",
    "y = set(x)\n",
    "\n",
    "y = list(y)"
   ]
  },
  {
   "cell_type": "code",
   "execution_count": 93,
   "metadata": {},
   "outputs": [
    {
     "data": {
      "text/plain": [
       "[1, 'apple', 2000, 'mango', 'orange']"
      ]
     },
     "execution_count": 93,
     "metadata": {},
     "output_type": "execute_result"
    }
   ],
   "source": [
    "z = list(y)\n",
    "z"
   ]
  },
  {
   "cell_type": "code",
   "execution_count": 94,
   "metadata": {},
   "outputs": [
    {
     "data": {
      "text/plain": [
       "['apple', 'apple', 'orange', 'mango', 1, 1, 1, 1, 1, 2000, 2000]"
      ]
     },
     "execution_count": 94,
     "metadata": {},
     "output_type": "execute_result"
    }
   ],
   "source": [
    "x"
   ]
  },
  {
   "cell_type": "code",
   "execution_count": 95,
   "metadata": {},
   "outputs": [
    {
     "data": {
      "text/plain": [
       "[1, 'apple', 2000, 'mango', 'orange']"
      ]
     },
     "execution_count": 95,
     "metadata": {},
     "output_type": "execute_result"
    }
   ],
   "source": [
    "y"
   ]
  },
  {
   "cell_type": "code",
   "execution_count": 96,
   "metadata": {},
   "outputs": [],
   "source": [
    "u = {1,2,3,4,5,6,7,8}\n",
    "v = {4,5,6,7,8,9,10}"
   ]
  },
  {
   "cell_type": "code",
   "execution_count": 97,
   "metadata": {},
   "outputs": [
    {
     "data": {
      "text/plain": [
       "{1, 2, 3, 4, 5, 6, 7, 8, 9, 10}"
      ]
     },
     "execution_count": 97,
     "metadata": {},
     "output_type": "execute_result"
    }
   ],
   "source": [
    "u.union(v)"
   ]
  },
  {
   "cell_type": "code",
   "execution_count": 98,
   "metadata": {},
   "outputs": [
    {
     "data": {
      "text/plain": [
       "{4, 5, 6, 7, 8}"
      ]
     },
     "execution_count": 98,
     "metadata": {},
     "output_type": "execute_result"
    }
   ],
   "source": [
    "u.intersection(v)"
   ]
  },
  {
   "cell_type": "code",
   "execution_count": 99,
   "metadata": {},
   "outputs": [
    {
     "data": {
      "text/plain": [
       "False"
      ]
     },
     "execution_count": 99,
     "metadata": {},
     "output_type": "execute_result"
    }
   ],
   "source": [
    "u.isdisjoint(v)"
   ]
  },
  {
   "cell_type": "code",
   "execution_count": 100,
   "metadata": {},
   "outputs": [
    {
     "data": {
      "text/plain": [
       "False"
      ]
     },
     "execution_count": 100,
     "metadata": {},
     "output_type": "execute_result"
    }
   ],
   "source": [
    "v.isdisjoint(u)"
   ]
  },
  {
   "cell_type": "code",
   "execution_count": 101,
   "metadata": {},
   "outputs": [
    {
     "name": "stdout",
     "output_type": "stream",
     "text": [
      "Help on method_descriptor:\n",
      "\n",
      "isdisjoint(...) unbound builtins.set method\n",
      "    Return True if two sets have a null intersection.\n",
      "\n"
     ]
    }
   ],
   "source": [
    "help(set.isdisjoint)"
   ]
  },
  {
   "cell_type": "code",
   "execution_count": 102,
   "metadata": {},
   "outputs": [
    {
     "data": {
      "text/plain": [
       "True"
      ]
     },
     "execution_count": 102,
     "metadata": {},
     "output_type": "execute_result"
    }
   ],
   "source": [
    "{1,2,3}.isdisjoint({100,200})"
   ]
  },
  {
   "cell_type": "code",
   "execution_count": 103,
   "metadata": {},
   "outputs": [],
   "source": [
    "regions = [\n",
    "    {\"region\": \"North America\", \"coordinates\": (54.5260, -105.2551)},\n",
    "    {\"region\": \"Europe\", \"coordinates\": (54.5260, 15.2551)},\n",
    "    {\"region\": \"Asia\", \"coordinates\": (34.0479, 100.6197)},\n",
    "    {\"region\": \"Africa\", \"coordinates\": (-8.7832, 34.5085)},\n",
    "    {\"region\": \"Australia\", \"coordinates\": (-25.2744, 133.7751)}\n",
    "]"
   ]
  },
  {
   "cell_type": "code",
   "execution_count": null,
   "metadata": {},
   "outputs": [],
   "source": [
    "# list tuple, [index or slice]\n",
    "# dictionary .get()"
   ]
  },
  {
   "cell_type": "code",
   "execution_count": 111,
   "metadata": {},
   "outputs": [
    {
     "data": {
      "text/plain": [
       "[(54.526, -105.2551),\n",
       " (54.526, 15.2551),\n",
       " (34.0479, 100.6197),\n",
       " (-8.7832, 34.5085),\n",
       " (-25.2744, 133.7751)]"
      ]
     },
     "execution_count": 111,
     "metadata": {},
     "output_type": "execute_result"
    }
   ],
   "source": [
    "list_or_coordinates = []\n",
    "x = regions [0] [\"coordinates\"]\n",
    "list_or_coordinates.append(x)\n",
    "x = regions [1] [\"coordinates\"]\n",
    "list_or_coordinates.append(x)\n",
    "x = regions [2] [\"coordinates\"]\n",
    "list_or_coordinates.append(x)\n",
    "x = regions [3] [\"coordinates\"]\n",
    "list_or_coordinates.append(x)\n",
    "x = regions [4] [\"coordinates\"]\n",
    "list_or_coordinates.append(x)\n",
    "list_or_coordinates"
   ]
  },
  {
   "cell_type": "code",
   "execution_count": 120,
   "metadata": {},
   "outputs": [
    {
     "data": {
      "text/plain": [
       "{0: 1, 1: 2, 2: 3, 10: 10000, 1000: 9999999}"
      ]
     },
     "execution_count": 120,
     "metadata": {},
     "output_type": "execute_result"
    }
   ],
   "source": [
    "# in list you get error when soemthing is not defined when you want ot assign , but not in dictionary\n",
    "x = [1,2,3,4]\n",
    "#x[10] = 10000\n",
    "d = {0:1,1:2,2:3}\n",
    "d[10] = 10000 # even key is not defined but it can still assign\n",
    "d[1000] = 9999999 # assignment is possibel even key is not defined first\n",
    "d"
   ]
  },
  {
   "cell_type": "code",
   "execution_count": 115,
   "metadata": {},
   "outputs": [
    {
     "data": {
      "text/plain": [
       "{'apple': 'red', 'range': 'yellow'}"
      ]
     },
     "execution_count": 115,
     "metadata": {},
     "output_type": "execute_result"
    }
   ],
   "source": [
    "g = {}\n",
    "x = 'apple'\n",
    "y = 'red'\n",
    "g[x] = y\n",
    "\n",
    "x = 'range'\n",
    "y = 'yellow'\n",
    "g[x] = y\n",
    "g"
   ]
  },
  {
   "cell_type": "code",
   "execution_count": 109,
   "metadata": {},
   "outputs": [],
   "source": [
    "# please store regioun and coordinates in form of dictionary"
   ]
  },
  {
   "cell_type": "code",
   "execution_count": 133,
   "metadata": {},
   "outputs": [],
   "source": [
    "regions = {\n",
    "    \"North America\": [\n",
    "        {\"country\": \"USA\", \"region\": \"California\", \"coordinates\": (36.7783, -119.4179)},\n",
    "        {\"country\": \"Canada\", \"region\": \"British Columbia\", \"coordinates\": (53.7267, -127.6476)}\n",
    "    ],\n",
    "    \"Europe\": [\n",
    "        {\"country\": \"Germany\", \"region\": \"Bavaria\", \"coordinates\": (48.7904, 11.4979)},\n",
    "        {\"country\": \"France\", \"region\": \"Île-de-France\", \"coordinates\": (48.8566, 2.3522)}\n",
    "    ],\n",
    "    \"Asia\": [\n",
    "        {\"country\": \"Japan\", \"region\": \"Kanto\", \"coordinates\": (35.6895, 139.6917)},\n",
    "        {\"country\": \"India\", \"region\": \"Maharashtra\", \"coordinates\": (19.0760, 72.8777)}\n",
    "    ],\n",
    "    \"Africa\": [\n",
    "        {\"country\": \"South Africa\", \"region\": \"Gauteng\", \"coordinates\": (-26.2041, 28.0473)},\n",
    "        {\"country\": \"Nigeria\", \"region\": \"Lagos\", \"coordinates\": (6.5244, 3.3792)}\n",
    "    ],\n",
    "    \"Australia\": [\n",
    "        {\"country\": \"Australia\", \"region\": \"New South Wales\", \"coordinates\": (-33.8688, 151.2093)},\n",
    "        {\"country\": \"Australia\", \"region\": \"Victoria\", \"coordinates\": (-37.8136, 144.9631)}\n",
    "    ]\n",
    "}\n",
    "\n",
    "my_new_d = {}# access the key\n",
    "\n",
    "x = regions ['North America'] [0] ['region'] \n",
    "y = regions ['North America'] [0] ['coordinates']\n",
    "my_new_d[x] = y\n",
    "\n",
    "na = regions ['North America'] [1] ['region']\n",
    "na2 = regions ['North America'] [1] ['coordinates']\n",
    "\n",
    "\n",
    "my_new_d[na] = na2"
   ]
  },
  {
   "cell_type": "code",
   "execution_count": 134,
   "metadata": {},
   "outputs": [
    {
     "data": {
      "text/plain": [
       "{'California': (36.7783, -119.4179), 'British Columbia': (53.7267, -127.6476)}"
      ]
     },
     "execution_count": 134,
     "metadata": {},
     "output_type": "execute_result"
    }
   ],
   "source": [
    "my_new_d"
   ]
  },
  {
   "cell_type": "code",
   "execution_count": null,
   "metadata": {},
   "outputs": [],
   "source": [
    "#MacOS shortcuts & learn data structures from Py3, look at alternative desktops"
   ]
  }
 ],
 "metadata": {
  "kernelspec": {
   "display_name": "Python 3",
   "language": "python",
   "name": "python3"
  },
  "language_info": {
   "codemirror_mode": {
    "name": "ipython",
    "version": 3
   },
   "file_extension": ".py",
   "mimetype": "text/x-python",
   "name": "python",
   "nbconvert_exporter": "python",
   "pygments_lexer": "ipython3",
   "version": "3.12.4"
  }
 },
 "nbformat": 4,
 "nbformat_minor": 2
}
